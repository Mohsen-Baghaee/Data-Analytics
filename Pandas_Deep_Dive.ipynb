{
 "cells": [
  {
   "cell_type": "markdown",
   "id": "e04dae52-68fa-4f34-8823-c1cbfe7f0060",
   "metadata": {},
   "source": [
    "# Pandas Deep Dive: Comprehensive Guide to Data Transformation, Wrangling, and Manipulation Techniques"
   ]
  },
  {
   "cell_type": "markdown",
   "id": "d5bbd674-f3cc-440f-a1ee-297090ae4323",
   "metadata": {},
   "source": [
    "### First Data set: TED Talks Transcripts for NLP from [Kaggle](https://www.kaggle.com/datasets/shreyasajal/linkedin-influencers-data)\n",
    "\n",
    "About Dataset:  \n",
    "This dataset contains LinkedIn Influencers' post details and other details(post dependent as well as independent) per post. This dataset can be used to analyze LinkedIn reach based on post content and related account details.\n",
    "\n",
    "### Second Data set: TED Talks  Data from [Kaggle](https://www.kaggle.com/datasets/rounakbanik/ted-talks)\n",
    "About Dataset:  \n",
    "These datasets contain information about all audio-video recordings of TED Talks uploaded to the official TED.com website until September 21st, 2017. The TED main dataset contains information about all talks including number of views, number of comments, descriptions, speakers and titles. The TED transcripts dataset contains the transcripts for all talks available on TED.com.\n"
   ]
  },
  {
   "cell_type": "markdown",
   "id": "3ab88a2e-f824-43ed-848c-0676e47cdf92",
   "metadata": {},
   "source": [
    "### Import and Installation"
   ]
  },
  {
   "cell_type": "code",
   "execution_count": 46,
   "id": "97ad4783-56dc-4c57-933c-db248857e314",
   "metadata": {
    "tags": []
   },
   "outputs": [],
   "source": [
    "import pandas as pd\n",
    "import numpy as np\n",
    "pd.set_option('display.max_columns', 50)\n",
    "pd.set_option('display.max_rows', 500)\n",
    "pd.set_option('display.max_colwidth', 20)\n",
    "from datetime import datetime"
   ]
  },
  {
   "cell_type": "markdown",
   "id": "9580dfbb-db3f-4a86-8640-353af5526caf",
   "metadata": {},
   "source": [
    "### Read Data"
   ]
  },
  {
   "cell_type": "code",
   "execution_count": null,
   "id": "0936235c-a3b2-4ce8-bcfb-3e17a8cc338e",
   "metadata": {},
   "outputs": [],
   "source": [
    "df = pd.read_csv('influencers_data.csv')\n",
    "df_ted =pd.read_csv('ted_main.csv')"
   ]
  },
  {
   "cell_type": "markdown",
   "id": "0aea89d1-60de-4cc9-8fff-39d46e2400ab",
   "metadata": {},
   "source": [
    "### Data Inspection"
   ]
  },
  {
   "cell_type": "code",
   "execution_count": 35,
   "id": "86c019a5-52f1-496b-8b3e-8e8462b2f6c0",
   "metadata": {
    "tags": []
   },
   "outputs": [
    {
     "name": "stdout",
     "output_type": "stream",
     "text": [
      "Shape of DataFrame:\n",
      "(2550, 17)\n",
      "\n",
      "Info and Data Types:\n",
      "\n",
      "<class 'pandas.core.frame.DataFrame'>\n",
      "RangeIndex: 2550 entries, 0 to 2549\n",
      "Data columns (total 17 columns):\n",
      " #   Column              Non-Null Count  Dtype \n",
      "---  ------              --------------  ----- \n",
      " 0   comments            2550 non-null   int64 \n",
      " 1   description         2550 non-null   object\n",
      " 2   duration            2550 non-null   int64 \n",
      " 3   event               2550 non-null   object\n",
      " 4   film_date           2550 non-null   int64 \n",
      " 5   languages           2550 non-null   int64 \n",
      " 6   main_speaker        2550 non-null   object\n",
      " 7   name                2550 non-null   object\n",
      " 8   num_speaker         2550 non-null   int64 \n",
      " 9   published_date      2550 non-null   int64 \n",
      " 10  ratings             2550 non-null   object\n",
      " 11  related_talks       2550 non-null   object\n",
      " 12  speaker_occupation  2544 non-null   object\n",
      " 13  tags                2550 non-null   object\n",
      " 14  title               2550 non-null   object\n",
      " 15  url                 2550 non-null   object\n",
      " 16  views               2550 non-null   int64 \n",
      "dtypes: int64(7), object(10)\n",
      "memory usage: 338.8+ KB\n",
      "None\n",
      "\n",
      "Check for null values:\n",
      "comments              0\n",
      "description           0\n",
      "duration              0\n",
      "event                 0\n",
      "film_date             0\n",
      "languages             0\n",
      "main_speaker          0\n",
      "name                  0\n",
      "num_speaker           0\n",
      "published_date        0\n",
      "ratings               0\n",
      "related_talks         0\n",
      "speaker_occupation    6\n",
      "tags                  0\n",
      "title                 0\n",
      "url                   0\n",
      "views                 0\n",
      "dtype: int64 \n",
      "\n",
      "\n",
      "First 5 rows of the second DataFrame:\n",
      "\n"
     ]
    },
    {
     "data": {
      "text/html": [
       "<div>\n",
       "<style scoped>\n",
       "    .dataframe tbody tr th:only-of-type {\n",
       "        vertical-align: middle;\n",
       "    }\n",
       "\n",
       "    .dataframe tbody tr th {\n",
       "        vertical-align: top;\n",
       "    }\n",
       "\n",
       "    .dataframe thead th {\n",
       "        text-align: right;\n",
       "    }\n",
       "</style>\n",
       "<table border=\"1\" class=\"dataframe\">\n",
       "  <thead>\n",
       "    <tr style=\"text-align: right;\">\n",
       "      <th></th>\n",
       "      <th>comments</th>\n",
       "      <th>description</th>\n",
       "      <th>duration</th>\n",
       "      <th>event</th>\n",
       "      <th>film_date</th>\n",
       "      <th>languages</th>\n",
       "      <th>main_speaker</th>\n",
       "      <th>name</th>\n",
       "      <th>num_speaker</th>\n",
       "      <th>published_date</th>\n",
       "      <th>ratings</th>\n",
       "      <th>related_talks</th>\n",
       "      <th>speaker_occupation</th>\n",
       "      <th>tags</th>\n",
       "      <th>title</th>\n",
       "      <th>url</th>\n",
       "      <th>views</th>\n",
       "    </tr>\n",
       "  </thead>\n",
       "  <tbody>\n",
       "    <tr>\n",
       "      <th>0</th>\n",
       "      <td>4553</td>\n",
       "      <td>Sir Ken Robinson...</td>\n",
       "      <td>1164</td>\n",
       "      <td>TED2006</td>\n",
       "      <td>1140825600</td>\n",
       "      <td>60</td>\n",
       "      <td>Ken Robinson</td>\n",
       "      <td>Ken Robinson: Do...</td>\n",
       "      <td>1</td>\n",
       "      <td>1151367060</td>\n",
       "      <td>[{'id': 7, 'name...</td>\n",
       "      <td>[{'id': 865, 'he...</td>\n",
       "      <td>Author/educator</td>\n",
       "      <td>['children', 'cr...</td>\n",
       "      <td>Do schools kill ...</td>\n",
       "      <td>https://www.ted....</td>\n",
       "      <td>47227110</td>\n",
       "    </tr>\n",
       "    <tr>\n",
       "      <th>1</th>\n",
       "      <td>265</td>\n",
       "      <td>With the same hu...</td>\n",
       "      <td>977</td>\n",
       "      <td>TED2006</td>\n",
       "      <td>1140825600</td>\n",
       "      <td>43</td>\n",
       "      <td>Al Gore</td>\n",
       "      <td>Al Gore: Avertin...</td>\n",
       "      <td>1</td>\n",
       "      <td>1151367060</td>\n",
       "      <td>[{'id': 7, 'name...</td>\n",
       "      <td>[{'id': 243, 'he...</td>\n",
       "      <td>Climate advocate</td>\n",
       "      <td>['alternative en...</td>\n",
       "      <td>Averting the cli...</td>\n",
       "      <td>https://www.ted....</td>\n",
       "      <td>3200520</td>\n",
       "    </tr>\n",
       "    <tr>\n",
       "      <th>2</th>\n",
       "      <td>124</td>\n",
       "      <td>New York Times c...</td>\n",
       "      <td>1286</td>\n",
       "      <td>TED2006</td>\n",
       "      <td>1140739200</td>\n",
       "      <td>26</td>\n",
       "      <td>David Pogue</td>\n",
       "      <td>David Pogue: Sim...</td>\n",
       "      <td>1</td>\n",
       "      <td>1151367060</td>\n",
       "      <td>[{'id': 7, 'name...</td>\n",
       "      <td>[{'id': 1725, 'h...</td>\n",
       "      <td>Technology colum...</td>\n",
       "      <td>['computers', 'e...</td>\n",
       "      <td>Simplicity sells</td>\n",
       "      <td>https://www.ted....</td>\n",
       "      <td>1636292</td>\n",
       "    </tr>\n",
       "    <tr>\n",
       "      <th>3</th>\n",
       "      <td>200</td>\n",
       "      <td>In an emotionall...</td>\n",
       "      <td>1116</td>\n",
       "      <td>TED2006</td>\n",
       "      <td>1140912000</td>\n",
       "      <td>35</td>\n",
       "      <td>Majora Carter</td>\n",
       "      <td>Majora Carter: G...</td>\n",
       "      <td>1</td>\n",
       "      <td>1151367060</td>\n",
       "      <td>[{'id': 3, 'name...</td>\n",
       "      <td>[{'id': 1041, 'h...</td>\n",
       "      <td>Activist for env...</td>\n",
       "      <td>['MacArthur gran...</td>\n",
       "      <td>Greening the ghetto</td>\n",
       "      <td>https://www.ted....</td>\n",
       "      <td>1697550</td>\n",
       "    </tr>\n",
       "    <tr>\n",
       "      <th>4</th>\n",
       "      <td>593</td>\n",
       "      <td>You've never see...</td>\n",
       "      <td>1190</td>\n",
       "      <td>TED2006</td>\n",
       "      <td>1140566400</td>\n",
       "      <td>48</td>\n",
       "      <td>Hans Rosling</td>\n",
       "      <td>Hans Rosling: Th...</td>\n",
       "      <td>1</td>\n",
       "      <td>1151440680</td>\n",
       "      <td>[{'id': 9, 'name...</td>\n",
       "      <td>[{'id': 2056, 'h...</td>\n",
       "      <td>Global health ex...</td>\n",
       "      <td>['Africa', 'Asia...</td>\n",
       "      <td>The best stats y...</td>\n",
       "      <td>https://www.ted....</td>\n",
       "      <td>12005869</td>\n",
       "    </tr>\n",
       "  </tbody>\n",
       "</table>\n",
       "</div>"
      ],
      "text/plain": [
       "   comments          description  duration    event   film_date  languages  \\\n",
       "0      4553  Sir Ken Robinson...      1164  TED2006  1140825600         60   \n",
       "1       265  With the same hu...       977  TED2006  1140825600         43   \n",
       "2       124  New York Times c...      1286  TED2006  1140739200         26   \n",
       "3       200  In an emotionall...      1116  TED2006  1140912000         35   \n",
       "4       593  You've never see...      1190  TED2006  1140566400         48   \n",
       "\n",
       "    main_speaker                 name  num_speaker  published_date  \\\n",
       "0   Ken Robinson  Ken Robinson: Do...            1      1151367060   \n",
       "1        Al Gore  Al Gore: Avertin...            1      1151367060   \n",
       "2    David Pogue  David Pogue: Sim...            1      1151367060   \n",
       "3  Majora Carter  Majora Carter: G...            1      1151367060   \n",
       "4   Hans Rosling  Hans Rosling: Th...            1      1151440680   \n",
       "\n",
       "               ratings        related_talks   speaker_occupation  \\\n",
       "0  [{'id': 7, 'name...  [{'id': 865, 'he...      Author/educator   \n",
       "1  [{'id': 7, 'name...  [{'id': 243, 'he...     Climate advocate   \n",
       "2  [{'id': 7, 'name...  [{'id': 1725, 'h...  Technology colum...   \n",
       "3  [{'id': 3, 'name...  [{'id': 1041, 'h...  Activist for env...   \n",
       "4  [{'id': 9, 'name...  [{'id': 2056, 'h...  Global health ex...   \n",
       "\n",
       "                  tags                title                  url     views  \n",
       "0  ['children', 'cr...  Do schools kill ...  https://www.ted....  47227110  \n",
       "1  ['alternative en...  Averting the cli...  https://www.ted....   3200520  \n",
       "2  ['computers', 'e...     Simplicity sells  https://www.ted....   1636292  \n",
       "3  ['MacArthur gran...  Greening the ghetto  https://www.ted....   1697550  \n",
       "4  ['Africa', 'Asia...  The best stats y...  https://www.ted....  12005869  "
      ]
     },
     "execution_count": 35,
     "metadata": {},
     "output_type": "execute_result"
    }
   ],
   "source": [
    "print(f'Shape of DataFrame:\\n{df_ted.shape}\\n')\n",
    "print('Info and Data Types:\\n')\n",
    "print(df_ted.info())\n",
    "print(f'\\nCheck for null values:\\n{df_ted.isna().sum()} \\n')\n",
    "print('\\nFirst 5 rows of the second DataFrame:\\n')\n",
    "df_ted.head()"
   ]
  },
  {
   "cell_type": "code",
   "execution_count": 16,
   "id": "8c92b38f-51a1-4059-aefc-259aee8ace63",
   "metadata": {
    "tags": []
   },
   "outputs": [
    {
     "data": {
      "text/html": [
       "<div>\n",
       "<style scoped>\n",
       "    .dataframe tbody tr th:only-of-type {\n",
       "        vertical-align: middle;\n",
       "    }\n",
       "\n",
       "    .dataframe tbody tr th {\n",
       "        vertical-align: top;\n",
       "    }\n",
       "\n",
       "    .dataframe thead th {\n",
       "        text-align: right;\n",
       "    }\n",
       "</style>\n",
       "<table border=\"1\" class=\"dataframe\">\n",
       "  <thead>\n",
       "    <tr style=\"text-align: right;\">\n",
       "      <th></th>\n",
       "      <th>comments</th>\n",
       "      <th>duration</th>\n",
       "      <th>film_date</th>\n",
       "      <th>languages</th>\n",
       "      <th>num_speaker</th>\n",
       "      <th>published_date</th>\n",
       "      <th>views</th>\n",
       "    </tr>\n",
       "  </thead>\n",
       "  <tbody>\n",
       "    <tr>\n",
       "      <th>count</th>\n",
       "      <td>2550.000000</td>\n",
       "      <td>2550.000000</td>\n",
       "      <td>2.550000e+03</td>\n",
       "      <td>2550.000000</td>\n",
       "      <td>2550.000000</td>\n",
       "      <td>2.550000e+03</td>\n",
       "      <td>2.550000e+03</td>\n",
       "    </tr>\n",
       "    <tr>\n",
       "      <th>mean</th>\n",
       "      <td>191.562353</td>\n",
       "      <td>826.510196</td>\n",
       "      <td>1.321928e+09</td>\n",
       "      <td>27.326275</td>\n",
       "      <td>1.028235</td>\n",
       "      <td>1.343525e+09</td>\n",
       "      <td>1.698297e+06</td>\n",
       "    </tr>\n",
       "    <tr>\n",
       "      <th>std</th>\n",
       "      <td>282.315223</td>\n",
       "      <td>374.009138</td>\n",
       "      <td>1.197391e+08</td>\n",
       "      <td>9.563452</td>\n",
       "      <td>0.207705</td>\n",
       "      <td>9.464009e+07</td>\n",
       "      <td>2.498479e+06</td>\n",
       "    </tr>\n",
       "    <tr>\n",
       "      <th>min</th>\n",
       "      <td>2.000000</td>\n",
       "      <td>135.000000</td>\n",
       "      <td>7.464960e+07</td>\n",
       "      <td>0.000000</td>\n",
       "      <td>1.000000</td>\n",
       "      <td>1.151367e+09</td>\n",
       "      <td>5.044300e+04</td>\n",
       "    </tr>\n",
       "    <tr>\n",
       "      <th>25%</th>\n",
       "      <td>63.000000</td>\n",
       "      <td>577.000000</td>\n",
       "      <td>1.257466e+09</td>\n",
       "      <td>23.000000</td>\n",
       "      <td>1.000000</td>\n",
       "      <td>1.268463e+09</td>\n",
       "      <td>7.557928e+05</td>\n",
       "    </tr>\n",
       "    <tr>\n",
       "      <th>50%</th>\n",
       "      <td>118.000000</td>\n",
       "      <td>848.000000</td>\n",
       "      <td>1.333238e+09</td>\n",
       "      <td>28.000000</td>\n",
       "      <td>1.000000</td>\n",
       "      <td>1.340935e+09</td>\n",
       "      <td>1.124524e+06</td>\n",
       "    </tr>\n",
       "    <tr>\n",
       "      <th>75%</th>\n",
       "      <td>221.750000</td>\n",
       "      <td>1046.750000</td>\n",
       "      <td>1.412964e+09</td>\n",
       "      <td>33.000000</td>\n",
       "      <td>1.000000</td>\n",
       "      <td>1.423432e+09</td>\n",
       "      <td>1.700760e+06</td>\n",
       "    </tr>\n",
       "    <tr>\n",
       "      <th>max</th>\n",
       "      <td>6404.000000</td>\n",
       "      <td>5256.000000</td>\n",
       "      <td>1.503792e+09</td>\n",
       "      <td>72.000000</td>\n",
       "      <td>5.000000</td>\n",
       "      <td>1.506092e+09</td>\n",
       "      <td>4.722711e+07</td>\n",
       "    </tr>\n",
       "  </tbody>\n",
       "</table>\n",
       "</div>"
      ],
      "text/plain": [
       "          comments     duration     film_date    languages  num_speaker  \\\n",
       "count  2550.000000  2550.000000  2.550000e+03  2550.000000  2550.000000   \n",
       "mean    191.562353   826.510196  1.321928e+09    27.326275     1.028235   \n",
       "std     282.315223   374.009138  1.197391e+08     9.563452     0.207705   \n",
       "min       2.000000   135.000000  7.464960e+07     0.000000     1.000000   \n",
       "25%      63.000000   577.000000  1.257466e+09    23.000000     1.000000   \n",
       "50%     118.000000   848.000000  1.333238e+09    28.000000     1.000000   \n",
       "75%     221.750000  1046.750000  1.412964e+09    33.000000     1.000000   \n",
       "max    6404.000000  5256.000000  1.503792e+09    72.000000     5.000000   \n",
       "\n",
       "       published_date         views  \n",
       "count    2.550000e+03  2.550000e+03  \n",
       "mean     1.343525e+09  1.698297e+06  \n",
       "std      9.464009e+07  2.498479e+06  \n",
       "min      1.151367e+09  5.044300e+04  \n",
       "25%      1.268463e+09  7.557928e+05  \n",
       "50%      1.340935e+09  1.124524e+06  \n",
       "75%      1.423432e+09  1.700760e+06  \n",
       "max      1.506092e+09  4.722711e+07  "
      ]
     },
     "execution_count": 16,
     "metadata": {},
     "output_type": "execute_result"
    }
   ],
   "source": [
    "df_ted.describe()"
   ]
  },
  {
   "cell_type": "code",
   "execution_count": 43,
   "id": "b822a6f6-4982-4719-a72f-5913f7351ad2",
   "metadata": {
    "tags": []
   },
   "outputs": [
    {
     "name": "stdout",
     "output_type": "stream",
     "text": [
      "\n",
      " Last 5 rows of First DataFrame ordered by column \"followers\" in descending order where column \"followers\" is not null\n"
     ]
    },
    {
     "data": {
      "text/html": [
       "<div>\n",
       "<style scoped>\n",
       "    .dataframe tbody tr th:only-of-type {\n",
       "        vertical-align: middle;\n",
       "    }\n",
       "\n",
       "    .dataframe tbody tr th {\n",
       "        vertical-align: top;\n",
       "    }\n",
       "\n",
       "    .dataframe thead th {\n",
       "        text-align: right;\n",
       "    }\n",
       "</style>\n",
       "<table border=\"1\" class=\"dataframe\">\n",
       "  <thead>\n",
       "    <tr style=\"text-align: right;\">\n",
       "      <th></th>\n",
       "      <th>Unnamed: 0</th>\n",
       "      <th>name</th>\n",
       "      <th>headline</th>\n",
       "      <th>location</th>\n",
       "      <th>followers</th>\n",
       "      <th>connections</th>\n",
       "      <th>about</th>\n",
       "      <th>time_spent</th>\n",
       "      <th>content</th>\n",
       "      <th>content_links</th>\n",
       "      <th>media_type</th>\n",
       "      <th>media_url</th>\n",
       "      <th>num_hashtags</th>\n",
       "      <th>hashtag_followers</th>\n",
       "      <th>hashtags</th>\n",
       "      <th>reactions</th>\n",
       "      <th>comments</th>\n",
       "      <th>views</th>\n",
       "      <th>votes</th>\n",
       "    </tr>\n",
       "  </thead>\n",
       "  <tbody>\n",
       "    <tr>\n",
       "      <th>1200</th>\n",
       "      <td>1200</td>\n",
       "      <td>Dale Corley</td>\n",
       "      <td>Compliance &amp; Tra...</td>\n",
       "      <td>['Greater', 'Bri...</td>\n",
       "      <td>171.0</td>\n",
       "      <td>171</td>\n",
       "      <td>Experienced Oper...</td>\n",
       "      <td>2 years ago</td>\n",
       "      <td>NaN</td>\n",
       "      <td>[]</td>\n",
       "      <td>NaN</td>\n",
       "      <td>[]</td>\n",
       "      <td>0</td>\n",
       "      <td>0</td>\n",
       "      <td>[]</td>\n",
       "      <td>1</td>\n",
       "      <td>0</td>\n",
       "      <td>NaN</td>\n",
       "      <td>NaN</td>\n",
       "    </tr>\n",
       "    <tr>\n",
       "      <th>1199</th>\n",
       "      <td>1199</td>\n",
       "      <td>Dale Corley</td>\n",
       "      <td>Compliance &amp; Tra...</td>\n",
       "      <td>['Greater', 'Bri...</td>\n",
       "      <td>171.0</td>\n",
       "      <td>171</td>\n",
       "      <td>Experienced Oper...</td>\n",
       "      <td>2 years ago</td>\n",
       "      <td>NaN</td>\n",
       "      <td>[]</td>\n",
       "      <td>NaN</td>\n",
       "      <td>[]</td>\n",
       "      <td>0</td>\n",
       "      <td>0</td>\n",
       "      <td>[]</td>\n",
       "      <td>1</td>\n",
       "      <td>0</td>\n",
       "      <td>NaN</td>\n",
       "      <td>NaN</td>\n",
       "    </tr>\n",
       "    <tr>\n",
       "      <th>1198</th>\n",
       "      <td>1198</td>\n",
       "      <td>Dale Corley</td>\n",
       "      <td>Compliance &amp; Tra...</td>\n",
       "      <td>['Greater', 'Bri...</td>\n",
       "      <td>171.0</td>\n",
       "      <td>171</td>\n",
       "      <td>Experienced Oper...</td>\n",
       "      <td>2 years ago</td>\n",
       "      <td>NaN</td>\n",
       "      <td>[]</td>\n",
       "      <td>article</td>\n",
       "      <td>['http://inventi...</td>\n",
       "      <td>0</td>\n",
       "      <td>0</td>\n",
       "      <td>[]</td>\n",
       "      <td>0</td>\n",
       "      <td>0</td>\n",
       "      <td>NaN</td>\n",
       "      <td>NaN</td>\n",
       "    </tr>\n",
       "    <tr>\n",
       "      <th>1197</th>\n",
       "      <td>1197</td>\n",
       "      <td>Dale Corley</td>\n",
       "      <td>Compliance &amp; Tra...</td>\n",
       "      <td>['Greater', 'Bri...</td>\n",
       "      <td>171.0</td>\n",
       "      <td>171</td>\n",
       "      <td>Experienced Oper...</td>\n",
       "      <td>2 years ago</td>\n",
       "      <td>NaN</td>\n",
       "      <td>[]</td>\n",
       "      <td>NaN</td>\n",
       "      <td>[]</td>\n",
       "      <td>0</td>\n",
       "      <td>0</td>\n",
       "      <td>[]</td>\n",
       "      <td>0</td>\n",
       "      <td>0</td>\n",
       "      <td>NaN</td>\n",
       "      <td>NaN</td>\n",
       "    </tr>\n",
       "    <tr>\n",
       "      <th>8799</th>\n",
       "      <td>8799</td>\n",
       "      <td>Dale Corley</td>\n",
       "      <td>Compliance &amp; Tra...</td>\n",
       "      <td>['Greater', 'Bri...</td>\n",
       "      <td>171.0</td>\n",
       "      <td>171</td>\n",
       "      <td>Experienced Oper...</td>\n",
       "      <td>2 years ago</td>\n",
       "      <td>NaN</td>\n",
       "      <td>[]</td>\n",
       "      <td>NaN</td>\n",
       "      <td>[]</td>\n",
       "      <td>0</td>\n",
       "      <td>0</td>\n",
       "      <td>[]</td>\n",
       "      <td>2</td>\n",
       "      <td>0</td>\n",
       "      <td>NaN</td>\n",
       "      <td>NaN</td>\n",
       "    </tr>\n",
       "  </tbody>\n",
       "</table>\n",
       "</div>"
      ],
      "text/plain": [
       "      Unnamed: 0         name             headline             location  \\\n",
       "1200        1200  Dale Corley  Compliance & Tra...  ['Greater', 'Bri...   \n",
       "1199        1199  Dale Corley  Compliance & Tra...  ['Greater', 'Bri...   \n",
       "1198        1198  Dale Corley  Compliance & Tra...  ['Greater', 'Bri...   \n",
       "1197        1197  Dale Corley  Compliance & Tra...  ['Greater', 'Bri...   \n",
       "8799        8799  Dale Corley  Compliance & Tra...  ['Greater', 'Bri...   \n",
       "\n",
       "      followers connections                about   time_spent content  \\\n",
       "1200      171.0         171  Experienced Oper...  2 years ago     NaN   \n",
       "1199      171.0         171  Experienced Oper...  2 years ago     NaN   \n",
       "1198      171.0         171  Experienced Oper...  2 years ago     NaN   \n",
       "1197      171.0         171  Experienced Oper...  2 years ago     NaN   \n",
       "8799      171.0         171  Experienced Oper...  2 years ago     NaN   \n",
       "\n",
       "     content_links media_type            media_url  num_hashtags  \\\n",
       "1200            []        NaN                   []             0   \n",
       "1199            []        NaN                   []             0   \n",
       "1198            []    article  ['http://inventi...             0   \n",
       "1197            []        NaN                   []             0   \n",
       "8799            []        NaN                   []             0   \n",
       "\n",
       "      hashtag_followers hashtags  reactions  comments  views votes  \n",
       "1200                  0       []          1         0    NaN   NaN  \n",
       "1199                  0       []          1         0    NaN   NaN  \n",
       "1198                  0       []          0         0    NaN   NaN  \n",
       "1197                  0       []          0         0    NaN   NaN  \n",
       "8799                  0       []          2         0    NaN   NaN  "
      ]
     },
     "execution_count": 43,
     "metadata": {},
     "output_type": "execute_result"
    }
   ],
   "source": [
    "print('\\n Last 5 rows of First DataFrame ordered by column \"followers\" in descending order where column \"followers\" is not null')\n",
    "df[df['followers'].notna()].sort_values(by='followers', ascending=False).tail()"
   ]
  },
  {
   "cell_type": "markdown",
   "id": "30f459a6-882e-4d77-8a29-bd127d04228c",
   "metadata": {},
   "source": [
    "## Examples of data Manipulation with Pandas"
   ]
  },
  {
   "cell_type": "markdown",
   "id": "27317752-3b4b-4f93-8669-a3188d2761dc",
   "metadata": {},
   "source": [
    "### Conditional Replacements"
   ]
  },
  {
   "cell_type": "code",
   "execution_count": null,
   "id": "02a1fbc6-6618-4a47-998d-964fa52459fc",
   "metadata": {},
   "outputs": [],
   "source": [
    "df.drop(df.columns[0], axis=1, inplace=True) # drop the first column\n",
    "\n",
    "replaced_df = df.where(df['followers'] <= 10, 0)  # Replace followers with 0 where followers <= 10\n",
    "\n",
    "masked_df = df.mask(df['connections'] > 300)  # mask for filtering dataframe where 'connections' > 300\n",
    "\n",
    "replaced_vals_df = df.replace('Great post!', 'Awesome content')  # Replace 'Great post!' with 'Awesome content'\n",
    "\n",
    "name_length_df = df['name'].apply(lambda x: len(x)) # storing number of character of each name  \n",
    "\n",
    "connection_status_df = df[df['connections'].notna()]['connections'].map(lambda x: 'Connected' if x > 300 else 'Not Connected') # based \n",
    "# on the values in the 'connections' column that are not null and whether they are greater than 300\n",
    "\n",
    "# all the values are missing in the column 'views', so it's better to drop this column\n",
    "df.drop('views', axis=1, inplace=True)\n",
    "\n",
    "\n",
    "# whenever there is a value '500+' in columns 'connections' replace it with '501'\n",
    "df.loc[df['connections'] =='500+', 'connections'] = '501'\n",
    "\n",
    "# Alternative 1: Using replace method\n",
    "df['connections'] = df['connections'].replace('500+', '501')\n",
    "\n",
    "# Alternative 2: Using apply method\n",
    "df['connections'] = df['connections'].apply(lambda x: '501' if x == '500+' else x)\n",
    "\n",
    "# Alternative 3: Using numpy.where function\n",
    "df['connections'] = np.where(df['connections'] == '500+', '501', df['connections'])\n",
    "\n",
    "# Convert the 'connections' column to numerical\n",
    "df['connections'] = pd.to_numeric(df['connections'], errors='coerce').astype(pd.Int32Dtype())"
   ]
  },
  {
   "cell_type": "markdown",
   "id": "e83156b2-3090-436c-bfc2-6f3b61231033",
   "metadata": {
    "tags": []
   },
   "source": [
    "### Filtering and Selection"
   ]
  },
  {
   "cell_type": "code",
   "execution_count": null,
   "id": "4e692868-acda-47a6-9002-d548ae942a84",
   "metadata": {},
   "outputs": [],
   "source": [
    "filtered_df = df[df['followers'] > 1000]  # Filter rows where followers > 1000\n",
    "queried_df = df.query('connections > 1500')  # Filter rows using query string\n",
    "loc_selected_df = df.loc[df['content'].str.contains('inspiring', case=False)]  # Select rows where content contains 'inspiring'\n",
    "iloc_selected_df = df.iloc[df['comments'].idxmax()]  # Select the row with the maximum comments\n",
    "isin_df = df[df['name'].isin(['Influencer B', 'Influencer C'])]  # Filter rows where name is in the list\n",
    "has_high_votes = df['votes'].any() > 70  # Check if any influencer has votes greater than 70\n",
    "filtere_column_name = df.filter(regex='num', axis=1) # the column which has \"num\" inside its name"
   ]
  },
  {
   "cell_type": "markdown",
   "id": "2c7f7fbd-38ed-4bb3-a122-0362fcd57132",
   "metadata": {},
   "source": [
    "### Changing Data Type"
   ]
  },
  {
   "cell_type": "code",
   "execution_count": null,
   "id": "718927e5-a9f9-4963-aa03-7dff47356456",
   "metadata": {},
   "outputs": [],
   "source": [
    "# changing data type to category for less memory usage\n",
    "df.about = df.about.astype(\"category\")\n",
    "df.headline = df.headline.astype(\"category\")"
   ]
  },
  {
   "cell_type": "markdown",
   "id": "5619583f-43ce-4085-b9f2-8c6a85fd0b57",
   "metadata": {},
   "source": [
    "### Grouping and Aggregation"
   ]
  },
  {
   "cell_type": "code",
   "execution_count": null,
   "id": "d81a47dc-f72a-490d-9c18-812ae41edec6",
   "metadata": {},
   "outputs": [],
   "source": [
    "grouped_agg_df = df.groupby('name').agg({'followers': 'max', 'reactions': 'sum'})  # Aggregate by max and sum\n",
    "grouped_transform_df = df.groupby('name')['comments'].transform('mean')  # Broadcast mean comments per influencer\n",
    "grouped_filter_df = df.groupby('name').filter(lambda x: x['followers'].sum() > 1000)  # Filter groups with total followers > 100000"
   ]
  },
  {
   "cell_type": "markdown",
   "id": "258da343-9126-4072-b667-3c721cf46071",
   "metadata": {},
   "source": [
    "### Sorting and Ranking"
   ]
  },
  {
   "cell_type": "code",
   "execution_count": null,
   "id": "93418c51-8123-4c19-82c6-9a3a3f708f84",
   "metadata": {},
   "outputs": [],
   "source": [
    "sorted_df = df.sort_values('votes', ascending=False)  # Sort by 'votes' column in descending order\n",
    "largest_df = df.nlargest(2, 'comments')  # Get top 2 rows with largest number of comments\n",
    "ranked_df = df.rank(ascending=False)  # Compute rank of values"
   ]
  },
  {
   "cell_type": "markdown",
   "id": "db7fec37-e8db-44d7-acb1-48c7eba1c244",
   "metadata": {},
   "source": [
    "### Dropping and Deleting"
   ]
  },
  {
   "cell_type": "code",
   "execution_count": null,
   "id": "4a73ed90-2e83-439a-842c-2b8338e7b7ae",
   "metadata": {},
   "outputs": [],
   "source": [
    "dropped_cols_df = df.drop(columns=['content', 'votes'])  # Drop 'content' and 'votes' columns\n",
    "dropped_rows_df = df.drop(index=0)  # Drop first row\n",
    "deduplicated_df = df.drop_duplicates()  # Remove duplicate rows\n",
    "droppedna_df = df.dropna()  # Drop rows with missing values"
   ]
  },
  {
   "cell_type": "markdown",
   "id": "74745833-6998-4a3a-bf35-d2c99d153e2c",
   "metadata": {},
   "source": [
    "### Boolean Indexing"
   ]
  },
  {
   "cell_type": "code",
   "execution_count": null,
   "id": "256641eb-23c5-4dd9-abd5-5ea202bd8dd4",
   "metadata": {},
   "outputs": [],
   "source": [
    "inverted_condition_df = df[~(df['connections'] > 1500)]  # Invert condition to filter rows"
   ]
  },
  {
   "cell_type": "markdown",
   "id": "f4cd6d94-c9c1-4e42-af8b-d808ea4f978a",
   "metadata": {},
   "source": [
    "### String Manipulation based on Condition"
   ]
  },
  {
   "cell_type": "code",
   "execution_count": null,
   "id": "1a3e4b9c-c508-4bfd-93a8-7196452064f7",
   "metadata": {},
   "outputs": [],
   "source": [
    "start_with_df = df[df['name'].str.startswith('Influencer')]  # Filter rows where name starts with 'Influencer'\n",
    "end_with_df = df[df['name'].str.endswith('A')]  # Filter rows where name ends with 'A'\n",
    "regex_match_df = df[df['name'].str.match('[A-C]')]  # Filter rows where name matches a regex pattern"
   ]
  },
  {
   "cell_type": "markdown",
   "id": "73c8d896-5d81-4a67-9dc9-d0c89ea2ff3b",
   "metadata": {},
   "source": [
    "### Handling Null Values"
   ]
  },
  {
   "cell_type": "code",
   "execution_count": null,
   "id": "fe6e2f08-86d9-454a-8d2b-7e88ac3e3751",
   "metadata": {},
   "outputs": [],
   "source": [
    "dropna_subset_df = df.dropna(subset=['content_links'])  # Drop rows with missing values in 'content_links'\n",
    "filledna_df = df.fillna({'votes': 0, 'media_type': 'None'})  # Fill missing 'votes' with 0 and 'media_type' with 'None'\n",
    "interpolated_df = df.interpolate()  # Interpolate missing values"
   ]
  },
  {
   "cell_type": "markdown",
   "id": "d129169b-a90e-40b7-9a83-8280c9fb3bec",
   "metadata": {},
   "source": [
    "### Combining Conditions"
   ]
  },
  {
   "cell_type": "code",
   "execution_count": null,
   "id": "9f5fafb5-ea1f-403b-9d67-190e160d99f8",
   "metadata": {},
   "outputs": [],
   "source": [
    "combined_and_df = df[(df['followers'] > 1000) & (df['connections'] > 200)]  # Combine conditions using logical AND\n",
    "combined_or_df = df[(df['followers'] > 750100000) | (df['connections'] > 200)]  # Combine conditions using logical OR"
   ]
  },
  {
   "cell_type": "markdown",
   "id": "66c2af62-5c8a-4995-a6fc-bd8314e1cb66",
   "metadata": {},
   "source": [
    "### Datetime Conditions"
   ]
  },
  {
   "cell_type": "code",
   "execution_count": 44,
   "id": "7d3326ea-7f37-41f5-b7e4-03e9b6549091",
   "metadata": {
    "tags": []
   },
   "outputs": [
    {
     "data": {
      "text/plain": [
       "0    1140825600\n",
       "1    1140825600\n",
       "2    1140739200\n",
       "3    1140912000\n",
       "4    1140566400\n",
       "Name: film_date, dtype: int64"
      ]
     },
     "execution_count": 44,
     "metadata": {},
     "output_type": "execute_result"
    }
   ],
   "source": [
    "df_ted.film_date.head()"
   ]
  },
  {
   "cell_type": "code",
   "execution_count": 51,
   "id": "09c6e49d-a147-4a18-a114-e5dc4218670e",
   "metadata": {
    "tags": []
   },
   "outputs": [],
   "source": [
    "df_ted.film_date = pd.to_datetime(df_ted.film_date, unit='s') # Unix timestamp of the filming\n",
    "\n",
    "latest_date = df_ted.film_date.max() # the latest date\n",
    "oldest_date = df_ted.film_date.min() # the oldest date\n",
    "\n",
    "date_filtered_df_ted = df_ted[df_ted['film_date'] > '2010-01-02']  # Filter rows based on datetime condition\n",
    "date_range_filtered_df_ted = df_ted[df_ted['film_date'].between('2015-01-01', '2016-01-15')]  # Filter rows within a datetime range"
   ]
  },
  {
   "cell_type": "markdown",
   "id": "b55e1115-79f8-4174-95ee-0af5a93549af",
   "metadata": {},
   "source": [
    "### Sampling Data"
   ]
  },
  {
   "cell_type": "code",
   "execution_count": null,
   "id": "21afec70-6436-4db2-b3a8-45f88954a61d",
   "metadata": {},
   "outputs": [],
   "source": [
    "sample_event = df_ted.event.sample(5)"
   ]
  }
 ],
 "metadata": {
  "kernelspec": {
   "display_name": "Python 3 (ipykernel)",
   "language": "python",
   "name": "python3"
  },
  "language_info": {
   "codemirror_mode": {
    "name": "ipython",
    "version": 3
   },
   "file_extension": ".py",
   "mimetype": "text/x-python",
   "name": "python",
   "nbconvert_exporter": "python",
   "pygments_lexer": "ipython3",
   "version": "3.9.17"
  }
 },
 "nbformat": 4,
 "nbformat_minor": 5
}
